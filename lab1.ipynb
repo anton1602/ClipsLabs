{
  "nbformat": 4,
  "nbformat_minor": 0,
  "metadata": {
    "kernelspec": {
      "display_name": "Python 3",
      "language": "python",
      "name": "python3"
    },
    "language_info": {
      "codemirror_mode": {
        "name": "ipython",
        "version": 3
      },
      "file_extension": ".py",
      "mimetype": "text/x-python",
      "name": "python",
      "nbconvert_exporter": "python",
      "pygments_lexer": "ipython3",
      "version": "3.7.6"
    },
    "colab": {
      "name": "lab1.ipynb",
      "provenance": [],
      "collapsed_sections": [],
      "include_colab_link": true
    }
  },
  "cells": [
    {
      "cell_type": "markdown",
      "metadata": {
        "id": "view-in-github",
        "colab_type": "text"
      },
      "source": [
        "<a href=\"https://colab.research.google.com/github/anton1602/ClipsLabs/blob/master/lab1.ipynb\" target=\"_parent\"><img src=\"https://colab.research.google.com/assets/colab-badge.svg\" alt=\"Open In Colab\"/></a>"
      ]
    },
    {
      "cell_type": "markdown",
      "metadata": {
        "id": "mjwtG_zeXpWs"
      },
      "source": [
        "# Лабораторная работа №1 по дисциплине ТГОНС\n",
        "\n",
        "**Выполнил:**   \n",
        "Студент группы М091901(76)  \n",
        "Воронцов Антон\n"
      ]
    },
    {
      "cell_type": "markdown",
      "metadata": {
        "id": "x3pQOq2wXdS9"
      },
      "source": [
        "# 1.Print 'Hello HCIA'."
      ]
    },
    {
      "cell_type": "code",
      "metadata": {
        "id": "M2-nDZG2XdS-",
        "colab": {
          "base_uri": "https://localhost:8080/"
        },
        "outputId": "956fc8cb-5c32-4d00-fbdc-0e36ba3afd25"
      },
      "source": [
        "print(\"Hello HCIA\")"
      ],
      "execution_count": 1,
      "outputs": [
        {
          "output_type": "stream",
          "text": [
            "Hello HCIA\n"
          ],
          "name": "stdout"
        }
      ]
    },
    {
      "cell_type": "markdown",
      "metadata": {
        "id": "hWj35YH1XdTD"
      },
      "source": [
        "# 2.Define two variables and calculate their sum."
      ]
    },
    {
      "cell_type": "code",
      "metadata": {
        "id": "F8WJNwvCXdTE",
        "colab": {
          "base_uri": "https://localhost:8080/"
        },
        "outputId": "cde965ac-307c-4cb4-b2b3-00be31e6665b"
      },
      "source": [
        "a = 13\n",
        "b = 37\n",
        "a + b"
      ],
      "execution_count": 2,
      "outputs": [
        {
          "output_type": "execute_result",
          "data": {
            "text/plain": [
              "50"
            ]
          },
          "metadata": {
            "tags": []
          },
          "execution_count": 2
        }
      ]
    },
    {
      "cell_type": "markdown",
      "metadata": {
        "id": "yhMkALmvXdTI"
      },
      "source": [
        "# 3.Define a list and replicate in three different ways."
      ]
    },
    {
      "cell_type": "markdown",
      "metadata": {
        "id": "nZq9PZ_ZYAk1"
      },
      "source": [
        "Для создания копии списка можно воспользоваться тремя способами:"
      ]
    },
    {
      "cell_type": "code",
      "metadata": {
        "id": "tXAp-W4pXdTI"
      },
      "source": [
        "old_list = [1, 2, 3]\n",
        "\n",
        "new_list1 = old_list.copy()\n",
        "new_list2 = old_list[:]\n",
        "new_list3 = list(old_list)"
      ],
      "execution_count": 3,
      "outputs": []
    },
    {
      "cell_type": "markdown",
      "metadata": {
        "id": "jttlGBHHXdTL"
      },
      "source": [
        "# 4.Define two lists and merge them together."
      ]
    },
    {
      "cell_type": "code",
      "metadata": {
        "id": "ZDFLHkDNXdTM",
        "colab": {
          "base_uri": "https://localhost:8080/"
        },
        "outputId": "89410309-d97a-4428-d4d5-9527c69dede8"
      },
      "source": [
        "list1 = [1, 2, 3]\n",
        "list2 = [4, 5, 6]\n",
        "list_merged = list1 + list2\n",
        "\n",
        "list_merged"
      ],
      "execution_count": 4,
      "outputs": [
        {
          "output_type": "execute_result",
          "data": {
            "text/plain": [
              "[1, 2, 3, 4, 5, 6]"
            ]
          },
          "metadata": {
            "tags": []
          },
          "execution_count": 4
        }
      ]
    },
    {
      "cell_type": "markdown",
      "metadata": {
        "id": "ledMZf7mXdTP"
      },
      "source": [
        "# 5. Get the last element of the list and print it."
      ]
    },
    {
      "cell_type": "code",
      "metadata": {
        "id": "dHKTW-i3XdTQ",
        "colab": {
          "base_uri": "https://localhost:8080/"
        },
        "outputId": "f6d4ccb8-50b4-4698-d62c-9a126edcba7c"
      },
      "source": [
        "print(list_merged[-1])"
      ],
      "execution_count": 5,
      "outputs": [
        {
          "output_type": "stream",
          "text": [
            "6\n"
          ],
          "name": "stdout"
        }
      ]
    },
    {
      "cell_type": "markdown",
      "metadata": {
        "id": "_OqctIQqXdTT"
      },
      "source": [
        "# 6.Define a tuple that contains only one element."
      ]
    },
    {
      "cell_type": "code",
      "metadata": {
        "id": "LthKIBvYXdTT",
        "colab": {
          "base_uri": "https://localhost:8080/"
        },
        "outputId": "36c3ca6e-8129-4132-8fa7-0278840bb42f"
      },
      "source": [
        "tuple_1d = (1,)\n",
        "\n",
        "print(tuple_1d, type(tuple_1d))"
      ],
      "execution_count": 6,
      "outputs": [
        {
          "output_type": "stream",
          "text": [
            "(1,) <class 'tuple'>\n"
          ],
          "name": "stdout"
        }
      ]
    },
    {
      "cell_type": "markdown",
      "metadata": {
        "id": "x9czcv_OXdTX"
      },
      "source": [
        "# 7.Define a three-line long string."
      ]
    },
    {
      "cell_type": "code",
      "metadata": {
        "id": "ZffKEnXWXdTY",
        "colab": {
          "base_uri": "https://localhost:8080/"
        },
        "outputId": "1ac4c870-3b39-4786-9a94-2613c792c531"
      },
      "source": [
        "str_three_lines = \"First line\\nSecond line\\nThird line\"\n",
        "\n",
        "print(str_three_lines)"
      ],
      "execution_count": 7,
      "outputs": [
        {
          "output_type": "stream",
          "text": [
            "First line\n",
            "Second line\n",
            "Third line\n"
          ],
          "name": "stdout"
        }
      ]
    },
    {
      "cell_type": "markdown",
      "metadata": {
        "id": "B8UNyGeDXdTa"
      },
      "source": [
        "# 8.Define a tuple and then use the 'for loop' to print all the elements."
      ]
    },
    {
      "cell_type": "code",
      "metadata": {
        "id": "6QWMCLN7XdTb",
        "colab": {
          "base_uri": "https://localhost:8080/"
        },
        "outputId": "44d6ca0d-57d4-42dc-cb63-c2811875672c"
      },
      "source": [
        "tuple_2 = ('meow1', 'meow2', 'ps-ps-ps')\n",
        "\n",
        "for element in tuple_2:\n",
        "    print(element)"
      ],
      "execution_count": 8,
      "outputs": [
        {
          "output_type": "stream",
          "text": [
            "meow1\n",
            "meow2\n",
            "ps-ps-ps\n"
          ],
          "name": "stdout"
        }
      ]
    },
    {
      "cell_type": "markdown",
      "metadata": {
        "id": "h4UCEEA9XdTd"
      },
      "source": [
        "# 9.Define a function to do Multiplication, such as Mul(8,6),and its output 48."
      ]
    },
    {
      "cell_type": "code",
      "metadata": {
        "id": "WfwXfTShXdTe",
        "colab": {
          "base_uri": "https://localhost:8080/"
        },
        "outputId": "58dc6019-ebff-4314-ff3c-de31d66c0ade"
      },
      "source": [
        "def mul(a, b):\n",
        "    return a*b\n",
        "\n",
        "mul(8,6)"
      ],
      "execution_count": 9,
      "outputs": [
        {
          "output_type": "execute_result",
          "data": {
            "text/plain": [
              "48"
            ]
          },
          "metadata": {
            "tags": []
          },
          "execution_count": 9
        }
      ]
    },
    {
      "cell_type": "markdown",
      "metadata": {
        "id": "OfoF871TXdTi"
      },
      "source": [
        "# 10.Import numpy and use numpy to define an array, the its shape  is (5,5) and all its elements is 0."
      ]
    },
    {
      "cell_type": "code",
      "metadata": {
        "id": "5M-JKBwoXdTi",
        "colab": {
          "base_uri": "https://localhost:8080/"
        },
        "outputId": "a31f8528-dbb8-4225-8403-3939048ff9ab"
      },
      "source": [
        "import numpy as np\n",
        "\n",
        "zeros1 = np.zeros((5,5))\n",
        "\n",
        "print(zeros1)\n",
        "print(type(zeros1))\n",
        "print(zeros1.shape)"
      ],
      "execution_count": 10,
      "outputs": [
        {
          "output_type": "stream",
          "text": [
            "[[0. 0. 0. 0. 0.]\n",
            " [0. 0. 0. 0. 0.]\n",
            " [0. 0. 0. 0. 0.]\n",
            " [0. 0. 0. 0. 0.]\n",
            " [0. 0. 0. 0. 0.]]\n",
            "<class 'numpy.ndarray'>\n",
            "(5, 5)\n"
          ],
          "name": "stdout"
        }
      ]
    },
    {
      "cell_type": "markdown",
      "metadata": {
        "id": "3OT_M3BiXdTn"
      },
      "source": [
        "# 11.Import numpy and use numpy to define an array, the shape is (4,6) and all elements is 0."
      ]
    },
    {
      "cell_type": "code",
      "metadata": {
        "id": "8SCGEriRXdTo",
        "colab": {
          "base_uri": "https://localhost:8080/"
        },
        "outputId": "f502d3b0-d029-4f46-d478-b396f153ba92"
      },
      "source": [
        "zeros2 = np.zeros((4,6))\n",
        "\n",
        "print(zeros2)\n",
        "print(type(zeros2))\n",
        "print(zeros2.shape)"
      ],
      "execution_count": 11,
      "outputs": [
        {
          "output_type": "stream",
          "text": [
            "[[0. 0. 0. 0. 0. 0.]\n",
            " [0. 0. 0. 0. 0. 0.]\n",
            " [0. 0. 0. 0. 0. 0.]\n",
            " [0. 0. 0. 0. 0. 0.]]\n",
            "<class 'numpy.ndarray'>\n",
            "(4, 6)\n"
          ],
          "name": "stdout"
        }
      ]
    },
    {
      "cell_type": "markdown",
      "metadata": {
        "id": "6x5JXx-uXdTr"
      },
      "source": [
        "# 12.Use numpy.arrange() to generate an array of shape(15,), then modify the shape to(3,5)."
      ]
    },
    {
      "cell_type": "code",
      "metadata": {
        "id": "JVOj-4z-XdTr",
        "colab": {
          "base_uri": "https://localhost:8080/"
        },
        "outputId": "0f0179e6-ff20-4da4-ee5e-fb94729fcf84"
      },
      "source": [
        "vector = np.arange(15)\n",
        "print(vector, vector.shape)\n",
        "\n",
        "matrix = vector.reshape(3,5)\n",
        "print(matrix, matrix.shape)"
      ],
      "execution_count": 12,
      "outputs": [
        {
          "output_type": "stream",
          "text": [
            "[ 0  1  2  3  4  5  6  7  8  9 10 11 12 13 14] (15,)\n",
            "[[ 0  1  2  3  4]\n",
            " [ 5  6  7  8  9]\n",
            " [10 11 12 13 14]] (3, 5)\n"
          ],
          "name": "stdout"
        }
      ]
    },
    {
      "cell_type": "markdown",
      "metadata": {
        "id": "coiqjAkZXdTv"
      },
      "source": [
        "# 13.Define two matrices, then calculate and print the result of their point multiplication."
      ]
    },
    {
      "cell_type": "code",
      "metadata": {
        "id": "8NwrlKFsXdTw",
        "colab": {
          "base_uri": "https://localhost:8080/"
        },
        "outputId": "fcde4244-9d1d-48e1-a0aa-5d71aae6f315"
      },
      "source": [
        "matrix1 = matrix.copy()\n",
        "matrix2 = np.arange(15, 30).reshape(5,3)\n",
        "\n",
        "print(matrix1)\n",
        "print('*')\n",
        "print(matrix2)\n",
        "\n",
        "result = np.dot(matrix1, matrix2)\n",
        "\n",
        "print('=')\n",
        "print(result)"
      ],
      "execution_count": 13,
      "outputs": [
        {
          "output_type": "stream",
          "text": [
            "[[ 0  1  2  3  4]\n",
            " [ 5  6  7  8  9]\n",
            " [10 11 12 13 14]]\n",
            "*\n",
            "[[15 16 17]\n",
            " [18 19 20]\n",
            " [21 22 23]\n",
            " [24 25 26]\n",
            " [27 28 29]]\n",
            "=\n",
            "[[ 240  250  260]\n",
            " [ 765  800  835]\n",
            " [1290 1350 1410]]\n"
          ],
          "name": "stdout"
        }
      ]
    }
  ]
}